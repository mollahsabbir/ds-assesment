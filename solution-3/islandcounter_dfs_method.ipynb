{
 "cells": [
  {
   "attachments": {},
   "cell_type": "markdown",
   "metadata": {},
   "source": [
    "# Count islands given a 2D map"
   ]
  },
  {
   "attachments": {},
   "cell_type": "markdown",
   "metadata": {},
   "source": [
    "**Problem:** You are given a 2d map of 1s (land) and 0s (water). You have to count the number of islands. An island is surrounded by water and is formed by connecting adjacent lands horizontally or vertically. You may assume all four edges of the grid are all surrounded by water. Your program should print only one number."
   ]
  },
  {
   "cell_type": "code",
   "execution_count": 13,
   "metadata": {},
   "outputs": [],
   "source": [
    "def valid_neighbors(point, map):\n",
    "    \n",
    "    x, y = point\n",
    "    return 0 <= x < len(map)            \\\n",
    "            and 0 <= y < len(map[0])    \\\n",
    "            and map[x][y] == 1"
   ]
  },
  {
   "cell_type": "code",
   "execution_count": 14,
   "metadata": {},
   "outputs": [],
   "source": [
    "def unvisited_neighbor_lands(map, point):\n",
    "    \n",
    "    candidate_neighbors = [(point[0]-1, point[1]),\n",
    "                           (point[0]+1, point[1]),\n",
    "                           (point[0], point[1]-1),\n",
    "                           (point[0], point[1]+1)]\n",
    "    \n",
    "    return [neighbor for neighbor in candidate_neighbors \n",
    "            if valid_neighbors(neighbor, map)]"
   ]
  },
  {
   "attachments": {},
   "cell_type": "markdown",
   "metadata": {},
   "source": [
    "The method `count_islands` reduces space complexity by modifying the input parameter `map` inplace. Thus making the method impure. This also uses a recursive implementation of `depth first search` algorithm. This may fail for larger maps unless the maximum recursion limit is changed for the python interpreter."
   ]
  },
  {
   "cell_type": "code",
   "execution_count": 15,
   "metadata": {},
   "outputs": [],
   "source": [
    "def count_islands(map):\n",
    "    islands = 0\n",
    "    \n",
    "    def dfs(i, j):\n",
    "        # 2 is a placeholder value that signifies `visited land`\n",
    "        # This will modify the map parameter inplace\n",
    "        map[i][j] = 2\n",
    "        \n",
    "        points_to_visit = unvisited_neighbor_lands(map, (i, j))\n",
    "        \n",
    "        for i,j in points_to_visit:\n",
    "            dfs(i, j)\n",
    "    \n",
    "    for i in range(len(map)):\n",
    "        for j in range(len(map[i])):\n",
    "            if map[i][j]==1:\n",
    "                dfs(i,j)\n",
    "                islands += 1\n",
    "    \n",
    "    return islands"
   ]
  },
  {
   "cell_type": "code",
   "execution_count": 16,
   "metadata": {},
   "outputs": [],
   "source": [
    "# Test 0\n",
    "grid0 = [\n",
    "    []\n",
    "]\n",
    "\n",
    "assert count_islands(grid0) == 0\n",
    "\n",
    "# Test 1\n",
    "grid1 = [\n",
    "    [1, 0, 1],\n",
    "    [0, 1, 0],\n",
    "    [1, 0, 1]\n",
    "]\n",
    "assert count_islands(grid1) == 5\n",
    "\n",
    "# Test 2\n",
    "grid2 = [\n",
    "    [1, 1, 1],\n",
    "    [0, 1, 0],\n",
    "    [1, 1, 1]\n",
    "]\n",
    "assert count_islands(grid2) == 1\n",
    "\n",
    "# Test 3\n",
    "grid3 = [\n",
    "    [0, 0, 0, 0, 0],\n",
    "    [0, 0, 0, 0, 0],\n",
    "    [0, 0, 0, 0, 0],\n",
    "    [0, 0, 0, 0, 0]\n",
    "]\n",
    "assert count_islands(grid3) == 0\n",
    "\n",
    "# Test 4\n",
    "grid4 = [\n",
    "    [1, 1, 1],\n",
    "    [1, 0, 1],\n",
    "    [1, 1, 1]\n",
    "]\n",
    "assert count_islands(grid4) == 1\n",
    "\n",
    "# Test 5\n",
    "grid5 = [\n",
    "    [1, 1, 0, 0, 0],\n",
    "    [1, 1, 0, 0, 0],\n",
    "    [0, 0, 1, 0, 0],\n",
    "    [0, 0, 0, 1, 1]\n",
    "]\n",
    "assert count_islands(grid5) == 3"
   ]
  }
 ],
 "metadata": {
  "kernelspec": {
   "display_name": "neural",
   "language": "python",
   "name": "python3"
  },
  "language_info": {
   "codemirror_mode": {
    "name": "ipython",
    "version": 3
   },
   "file_extension": ".py",
   "mimetype": "text/x-python",
   "name": "python",
   "nbconvert_exporter": "python",
   "pygments_lexer": "ipython3",
   "version": "3.10.10"
  },
  "orig_nbformat": 4
 },
 "nbformat": 4,
 "nbformat_minor": 2
}
