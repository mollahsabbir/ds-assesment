{
 "cells": [
  {
   "attachments": {},
   "cell_type": "markdown",
   "metadata": {},
   "source": [
    "# Count islands given a 2D map"
   ]
  },
  {
   "cell_type": "code",
   "execution_count": 36,
   "metadata": {},
   "outputs": [],
   "source": [
    "def valid_neighbors(point, map, visited):\n",
    "    \n",
    "    x, y = point\n",
    "    return 0 <= x < len(map)            \\\n",
    "            and 0 <= y < len(map[0])    \\\n",
    "            and map[x][y] == 1          \\\n",
    "            and point not in visited"
   ]
  },
  {
   "cell_type": "code",
   "execution_count": 37,
   "metadata": {},
   "outputs": [],
   "source": [
    "def unvisited_neighbor_lands(point, map, visited):\n",
    "    \n",
    "    candidate_neighbors = [(point[0]-1, point[1]),\n",
    "                           (point[0]+1, point[1]),\n",
    "                           (point[0], point[1]-1),\n",
    "                           (point[0], point[1]+1)]\n",
    "    \n",
    "    return [neighbor for neighbor in candidate_neighbors \n",
    "            if valid_neighbors(neighbor, map, visited)]"
   ]
  },
  {
   "cell_type": "code",
   "execution_count": 38,
   "metadata": {},
   "outputs": [],
   "source": [
    "def explore_island(map, visited, i, j):\n",
    "    newly_visited = set()\n",
    "    if map[i][j] == 1 and (i, j) not in visited:\n",
    "        stack = [(i, j)]\n",
    "        while stack:\n",
    "            node = stack.pop()\n",
    "            newly_visited.add(node)\n",
    "            neighbors = unvisited_neighbor_lands(node, map, visited.union(newly_visited))\n",
    "            stack.extend(neighbors)\n",
    "    \n",
    "    return newly_visited"
   ]
  },
  {
   "cell_type": "code",
   "execution_count": 39,
   "metadata": {},
   "outputs": [],
   "source": [
    "def count_islands(map):\n",
    "    \n",
    "    visited = set()\n",
    "    num_islands = 0\n",
    "    \n",
    "    for i in range(len(map)):\n",
    "        for j in range(len(map[0])):\n",
    "            visited_island = explore_island(map, visited, i, j)\n",
    "            visited = visited.union(visited_island)\n",
    "            \n",
    "            # if visited_island is empty then no new islands were discovered\n",
    "            num_islands = num_islands + 1 if visited_island else num_islands\n",
    "            \n",
    "    return num_islands"
   ]
  },
  {
   "cell_type": "code",
   "execution_count": 40,
   "metadata": {},
   "outputs": [],
   "source": [
    "# Test 0\n",
    "grid0 = [\n",
    "    []\n",
    "]\n",
    "\n",
    "assert count_islands(grid0) == 0\n",
    "\n",
    "# Test 1\n",
    "grid1 = [\n",
    "    [1, 0, 1],\n",
    "    [0, 1, 0],\n",
    "    [1, 0, 1]\n",
    "]\n",
    "assert count_islands(grid1) == 5\n",
    "\n",
    "# Test 2\n",
    "grid2 = [\n",
    "    [1, 1, 1],\n",
    "    [0, 1, 0],\n",
    "    [1, 1, 1]\n",
    "]\n",
    "assert count_islands(grid2) == 1\n",
    "\n",
    "# Test 3\n",
    "grid3 = [\n",
    "    [0, 0, 0, 0, 0],\n",
    "    [0, 0, 0, 0, 0],\n",
    "    [0, 0, 0, 0, 0],\n",
    "    [0, 0, 0, 0, 0]\n",
    "]\n",
    "assert count_islands(grid3) == 0\n",
    "\n",
    "# Test 4\n",
    "grid4 = [\n",
    "    [1, 1, 1],\n",
    "    [1, 0, 1],\n",
    "    [1, 1, 1]\n",
    "]\n",
    "assert count_islands(grid4) == 1\n",
    "\n",
    "# Test 5\n",
    "grid5 = [\n",
    "    [1, 1, 0, 0, 0],\n",
    "    [1, 1, 0, 0, 0],\n",
    "    [0, 0, 1, 0, 0],\n",
    "    [0, 0, 0, 1, 1]\n",
    "]\n",
    "assert count_islands(grid5) == 3"
   ]
  },
  {
   "cell_type": "code",
   "execution_count": null,
   "metadata": {},
   "outputs": [],
   "source": []
  }
 ],
 "metadata": {
  "kernelspec": {
   "display_name": "neural",
   "language": "python",
   "name": "python3"
  },
  "language_info": {
   "codemirror_mode": {
    "name": "ipython",
    "version": 3
   },
   "file_extension": ".py",
   "mimetype": "text/x-python",
   "name": "python",
   "nbconvert_exporter": "python",
   "pygments_lexer": "ipython3",
   "version": "3.10.10"
  },
  "orig_nbformat": 4
 },
 "nbformat": 4,
 "nbformat_minor": 2
}
