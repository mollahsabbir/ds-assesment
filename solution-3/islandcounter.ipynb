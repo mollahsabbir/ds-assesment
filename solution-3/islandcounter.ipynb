{
 "cells": [
  {
   "attachments": {},
   "cell_type": "markdown",
   "metadata": {},
   "source": [
    "# Count islands given a 2D map"
   ]
  },
  {
   "cell_type": "code",
   "execution_count": 17,
   "metadata": {},
   "outputs": [],
   "source": [
    "def unvisited_neighbor_lands(grid, visited, i, j):\n",
    "    \n",
    "    height, width = len(grid), len(grid[0])\n",
    "    \n",
    "    def valid_neighbors(point):\n",
    "        x,y = point\n",
    "        return 0 <= x < height and 0 <= y < width \\\n",
    "            and grid[x][y] == 1 \\\n",
    "            and not visited[x][y]\n",
    "        \n",
    "    candidate_neighbors = [(i-1, j), (i+1, j), (i, j-1), (i, j+1)]\n",
    "    neighbors = filter(valid_neighbors, candidate_neighbors)\n",
    "        \n",
    "    return list(neighbors)"
   ]
  },
  {
   "cell_type": "code",
   "execution_count": 18,
   "metadata": {},
   "outputs": [],
   "source": [
    "def count_islands(grid):\n",
    "    islands = 0\n",
    "    visited = [[False for elem in row] for row in grid]\n",
    "    \n",
    "    def dfs(i, j):\n",
    "        visited[i][j] = True\n",
    "        points_to_visit = unvisited_neighbor_lands(grid, visited, i, j)\n",
    "        \n",
    "        for i,j in points_to_visit:\n",
    "            dfs(i, j)\n",
    "    \n",
    "    for i in range(len(grid)):\n",
    "        for j in range(len(grid[i])):\n",
    "            if not visited[i][j] and grid[i][j]==1:\n",
    "                dfs(i,j)\n",
    "                islands += 1\n",
    "    \n",
    "    return islands"
   ]
  },
  {
   "cell_type": "code",
   "execution_count": 20,
   "metadata": {},
   "outputs": [],
   "source": [
    "# Test 0\n",
    "grid0 = [\n",
    "    []\n",
    "]\n",
    "\n",
    "assert count_islands(grid0) == 0\n",
    "\n",
    "# Test 1\n",
    "grid1 = [\n",
    "    [1, 0, 1],\n",
    "    [0, 1, 0],\n",
    "    [1, 0, 1]\n",
    "]\n",
    "assert count_islands(grid1) == 5\n",
    "\n",
    "# Test 2\n",
    "grid2 = [\n",
    "    [1, 1, 1],\n",
    "    [0, 1, 0],\n",
    "    [1, 1, 1]\n",
    "]\n",
    "assert count_islands(grid2) == 1\n",
    "\n",
    "# Test 3\n",
    "grid3 = [\n",
    "    [0, 0, 0, 0, 0],\n",
    "    [0, 0, 0, 0, 0],\n",
    "    [0, 0, 0, 0, 0],\n",
    "    [0, 0, 0, 0, 0]\n",
    "]\n",
    "assert count_islands(grid3) == 0\n",
    "\n",
    "# Test 4\n",
    "grid4 = [\n",
    "    [1, 1, 1],\n",
    "    [1, 0, 1],\n",
    "    [1, 1, 1]\n",
    "]\n",
    "assert count_islands(grid4) == 1\n",
    "\n",
    "# Test 5\n",
    "grid5 = [\n",
    "    [1, 1, 0, 0, 0],\n",
    "    [1, 1, 0, 0, 0],\n",
    "    [0, 0, 1, 0, 0],\n",
    "    [0, 0, 0, 1, 1]\n",
    "]\n",
    "assert count_islands(grid5) == 3"
   ]
  }
 ],
 "metadata": {
  "kernelspec": {
   "display_name": "neural",
   "language": "python",
   "name": "python3"
  },
  "language_info": {
   "codemirror_mode": {
    "name": "ipython",
    "version": 3
   },
   "file_extension": ".py",
   "mimetype": "text/x-python",
   "name": "python",
   "nbconvert_exporter": "python",
   "pygments_lexer": "ipython3",
   "version": "3.10.9"
  },
  "orig_nbformat": 4
 },
 "nbformat": 4,
 "nbformat_minor": 2
}
